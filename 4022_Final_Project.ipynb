{
 "cells": [
  {
   "cell_type": "markdown",
   "metadata": {},
   "source": [
    "In this project we propose to create an item-item recommendation system that will assist users in selecting the next title to watch based on their input of a specific title. We will adopt this approach instead of building user profiles, so the imputed title will be used in lieu of a user profile, however user profile data is available that we may incorporate into our project later, time allowing.\n",
    "\n",
    "We have begun setting up our item-item system, but we have not progressed very far. We are currently using a truncated version of our ratings file."
   ]
  },
  {
   "cell_type": "code",
   "execution_count": 1,
   "metadata": {},
   "outputs": [
    {
     "name": "stderr",
     "output_type": "stream",
     "text": [
      "C:\\Users\\Kathleen\\Anaconda3\\lib\\site-packages\\IPython\\core\\interactiveshell.py:3156: DtypeWarning: Columns (10) have mixed types.Specify dtype option on import or set low_memory=False.\n",
      "  interactivity=interactivity, compiler=compiler, result=result)\n"
     ]
    }
   ],
   "source": [
    "import numpy as np\n",
    "import pandas as pd\n",
    "import matplotlib.pyplot as plt\n",
    "import ast\n",
    "\n",
    "ratings_df = pd.read_csv(\"./input/ratings_small.csv\", dtype = 'float')\n",
    "ratings_df.head()\n",
    "\n",
    "movies_df = pd.read_csv(\"./input/movies_metadata.csv\")\n",
    "movies_df.head()\n",
    "\n",
    "movies_df = movies_df[movies_df['id'].astype(str).str.isdigit()] # clean (Some movies have not integers as id)\n",
    "movies_df.id = movies_df.id.astype(np.int64)\n",
    "\n",
    "ratings_df = pd.merge(ratings_df,movies_df[['title','id']],left_on='movieId',right_on='id')\n",
    "ratings_df.head()\n",
    "\n",
    "ratings_df.drop(['timestamp','id'],axis=1,inplace=True)\n",
    "\n",
    "titles = ratings_df[\"title\"].unique()\n",
    "titlesRate = []\n",
    "titlesVote = []\n",
    "\n",
    "for t in range(len(titles)):\n",
    "    temp = ratings_df[(ratings_df[\"title\"] == titles[t])]\n",
    "    v = temp['rating'].mean()\n",
    "    titlesVote.append(temp['rating'].count())\n",
    "    titlesRate.append(v)\n",
    "\n",
    "data = {'Title':  titles,\n",
    "        'Rating': titlesRate,\n",
    "        'Votes': titlesVote\n",
    "       }\n",
    "Leaderboard = pd.DataFrame (data, columns = ['Title','Rating','Votes'])\n"
   ]
  },
  {
   "cell_type": "code",
   "execution_count": 2,
   "metadata": {},
   "outputs": [
    {
     "name": "stdout",
     "output_type": "stream",
     "text": [
      "Top rated movies\n",
      "                      Title  Rating  Votes\n",
      "0           The Celebration     5.0      3\n",
      "1   The Night of the Hunter     5.0      3\n",
      "2                 Ninotchka     5.0      2\n",
      "3                 Silentium     5.0      2\n",
      "4  Gentlemen Prefer Blondes     5.0      2\n",
      "5                 Long Pigs     5.0      2\n",
      "6              Nick of Time     5.0      1\n",
      "7        The Crazy Stranger     5.0      1\n",
      "8            The Inquisitor     5.0      1\n",
      "9      Murder in Three Acts     5.0      1\n",
      "Most viewed movies\n",
      "                                Title    Rating  Votes\n",
      "0  Terminator 3: Rise of the Machines  4.256173    324\n",
      "1            The Million Dollar Hotel  4.487138    311\n",
      "2                             Solaris  4.134426    305\n",
      "3                        The 39 Steps  4.221649    291\n",
      "4                     Monsoon Wedding  3.706204    274\n",
      "5                  Once Were Warriors  4.303279    244\n",
      "6                   Three Colors: Red  3.945175    228\n",
      "7                     Men in Black II  4.256696    224\n",
      "8          The Passion of Joan of Arc  3.483945    218\n",
      "9                         Silent Hill  3.674419    215\n"
     ]
    }
   ],
   "source": [
    "# Highly rated movies\n",
    "print(\"Top rated movies\")\n",
    "Leaderboard = Leaderboard.sort_values(by=['Rating','Votes'], ascending = False).reset_index(drop = True)\n",
    "print(Leaderboard.head(10))\n",
    "\n",
    "print(\"Most viewed movies\")\n",
    "# Popular\n",
    "Leaderboard = Leaderboard.sort_values(by=['Votes','Rating'], ascending = False).reset_index(drop = True)\n",
    "print(Leaderboard.head(10))"
   ]
  },
  {
   "cell_type": "code",
   "execution_count": 3,
   "metadata": {},
   "outputs": [
    {
     "data": {
      "image/png": "[encoded data removed]",
      "text/plain": [
       "<Figure size 432x288 with 1 Axes>"
      ]
     },
     "metadata": {
      "needs_background": "light"
     },
     "output_type": "display_data"
    },
    {
     "data": {
      "image/png": "[encoded data removed]",
      "text/plain": [
       "<Figure size 432x288 with 1 Axes>"
      ]
     },
     "metadata": {
      "needs_background": "light"
     },
     "output_type": "display_data"
    }
   ],
   "source": [
    "top_rated_movies = Leaderboard.sort_values(by=['Rating','Votes'], ascending = False).reset_index(drop = True)\n",
    "top_rated_movies_y = sorted(top_rated_movies['Rating'].values.tolist())\n",
    "top_rated_movies_x = [i for i in range(len(top_rated_movies_y))]\n",
    "\n",
    "plt.bar(top_rated_movies_x, top_rated_movies_y)\n",
    "\n",
    "plt.title('Rankings of movies')\n",
    "plt.xlabel(\"Movie Number\")\n",
    "plt.ylabel(\"Movie Rating\")\n",
    "plt.show()\n",
    "\n",
    "top_voted_movies_y = sorted(top_rated_movies['Votes'].values.tolist())\n",
    "top_voted_movies_x = [i for i in range(len(top_rated_movies_y))]\n",
    "plt.bar(top_voted_movies_x, top_voted_movies_y, color = 'red')\n",
    "\n",
    "plt.title('Votes of movies')\n",
    "plt.xlabel(\"Movie Number\")\n",
    "plt.ylabel(\"Number of Votes\")\n",
    "plt.show()\n"
   ]
  },
  {
   "cell_type": "markdown",
   "metadata": {},
   "source": [
    "As you can see, we have cleaned and merged some data from our csv files. From these we calculated the most popular and high rated titles, as well as averages of the like. This is very important for recomendations! The better rated and ranked an item, the more likely it is to be recommended. It also is important to think about which items are popular in general and which items are specifically. Moving foward we will have to  run knn on the movies. Where the closest k movies will be suggested. Perhaps we can incorporate the rating of the movie in the way we list the movie recommendations to the user. "
   ]
  },
  {
   "cell_type": "code",
   "execution_count": 13,
   "metadata": {},
   "outputs": [],
   "source": [
    "import re\n",
    "import unidecode\n",
    "\n",
    "movie_text = movies_df['overview'].values.tolist()\n",
    "movie_text_check = movie_text.copy()\n",
    "# clean up punctuation\n",
    "movie_text = [set(re.sub(r'[^a-zA-Z0-9\\s]','', unidecode.unidecode(str(movie_text_check[i]))).split()) for i in range(len(movie_text))]\n",
    "\n",
    "# movie_text = [set(str(movie_text[i]).split()) for i in range(len(movie_text))]\n",
    "\n",
    "movie_title = movies_df['original_title'].values.tolist()\n",
    "movie_title = [movie_title[i] for i in range(len(movie_title))]\n",
    "movie_title_set = set(movie_title)\n",
    "\n",
    "movie_word_set = {movie_title[i]: movie_text[i] for i in range(len(movie_title))}\n",
    "check_words = {movie_title[i]: movie_text_check[i] for i in range(len(movie_title))}\n"
   ]
  },
  {
   "cell_type": "code",
   "execution_count": 5,
   "metadata": {},
   "outputs": [
    {
     "name": "stdout",
     "output_type": "stream",
     "text": [
      "[['Toy Story 2' '0.16883116883116883']\n",
      " ['Giù la testa... hombre' '0.16176470588235295']\n",
      " ['Vipère au poing' '0.15384615384615385']\n",
      " ['Ultimate Avengers 2' '0.15']\n",
      " ['Les Fugitifs' '0.14925373134328357']\n",
      " ['The Jungle Book 2' '0.14545454545454545']\n",
      " ['The Hooligan Factory' '0.14285714285714285']\n",
      " ['Spy Game' '0.14102564102564102']\n",
      " ['Free Birds' '0.14102564102564102']\n",
      " ['Che!' '0.14102564102564102']]\n"
     ]
    }
   ],
   "source": [
    "# adult_store = {collection_titles[i] : c for i,c in enumerate(adult)}\n",
    "\n",
    "def description_similarity(title, title_set = movie_title_set, return_scores = False, return_text = False, return_all = False):\n",
    "    if title not in title_set:\n",
    "        print(\"Title not found!\")\n",
    "        return []\n",
    "    \n",
    "    else:\n",
    "        # get descirption of corresponding movie form dictionary\n",
    "        title_set = movie_word_set[title]\n",
    "\n",
    "        current_leader = []\n",
    "        for j, m_title in enumerate(movie_title):\n",
    "\n",
    "            description_sim = len(movie_text[j].intersection(title_set))/len(movie_text[j].union(title_set))\n",
    "    \n",
    "            if return_text:\n",
    "                current_leader.append((movie_title[j],description_sim, movie_text[j]))\n",
    "            else:\n",
    "                current_leader.append((movie_title[j], description_sim))\n",
    "               \n",
    "        current_leader.sort(key = lambda x:x[1], reverse = True)\n",
    "        current_leader = current_leader[1:]\n",
    "\n",
    "        # only use top 10 similar movies\n",
    "        if return_all==False:\n",
    "            current_leader = current_leader[:10]\n",
    "            \n",
    "        if return_scores or return_text:\n",
    "            return current_leader\n",
    "        \n",
    "        # return just the titles\n",
    "        else:\n",
    "            return [x[0] for x in current_leader]\n",
    "        \n",
    "title = \"Toy Story\"\n",
    "temp = np.array(description_similarity(title, return_scores = True, return_all=False))\n",
    "# print([(x[0], x[1]) for x in temp])\n",
    "print(temp)\n",
    "\n"
   ]
  },
  {
   "cell_type": "code",
   "execution_count": 12,
   "metadata": {},
   "outputs": [
    {
     "name": "stdout",
     "output_type": "stream",
     "text": [
      "Led by Woody, Andy's toys live happily in his room until Andy's birthday brings Buzz Lightyear onto the scene. Afraid of losing his place in Andy's heart, Woody plots against Buzz. But when circumstances separate Buzz and Woody from their owner, the duo eventually learns to put aside their differences.\n",
      "\n",
      "Andy heads off to Cowboy Camp, leaving his toys to their own devices. Things shift into high gear when an obsessive toy collector named Al McWhiggen, owner of Al's Toy Barn kidnaps Woody. Andy's toys mount a daring rescue mission, Buzz Lightyear meets his match and Woody has to decide where he and his heart truly belong.\n",
      "{'Lightyear', 'and', 'of', 'toys', 'heart', 'to', 'his', 'owner', 'Woody', 'Andys', 'when', 'their', 'Buzz'}\n",
      "\n",
      "13 77\n"
     ]
    }
   ],
   "source": [
    "title1 = 'Toy Story'\n",
    "if title1 in check_words:\n",
    "    print(check_words[title1])\n",
    "print()\n",
    "title2 = 'Toy Story 2'\n",
    "if title2 in check_words:\n",
    "    print(check_words[title2])\n",
    "        \n",
    "ii = movie_title.index(title1)\n",
    "title_set = movie_text[ii]\n",
    "\n",
    "iii = movie_title.index(title2)\n",
    "title_set_two = movie_text[iii]\n",
    "\n",
    "print(title_set.intersection(title_set_two))\n",
    "print()\n",
    "print(len(title_set.intersection(title_set_two)),len(title_set.union(title_set_two)))\n",
    "# print(len(title_set.union(title_set_two)),len(title_set) + len(title_set_two))"
   ]
  },
  {
   "cell_type": "code",
   "execution_count": 7,
   "metadata": {},
   "outputs": [
    {
     "name": "stdout",
     "output_type": "stream",
     "text": [
      "[('Toy Story', 1), ('Jumanji', 1), ('Grumpier Old Men', 1), ('Waiting to Exhale', 1), ('Father of the Bride Part II', 1), ('Heat', 1), ('Sabrina', 1), ('Tom and Huck', 1), ('Sudden Death', 1), ('GoldenEye', 1)]\n"
     ]
    }
   ],
   "source": [
    "collection = movies_df['belongs_to_collection']\n",
    "collection_titles = movies_df['original_title'].values.tolist()\n",
    "collection_store = {collection_titles[i] : ast.literal_eval(c)['name'] if isinstance(c, str) else None for i,c in enumerate(collection.values.tolist())}\n",
    "\n",
    "def collection_similarity(title, title_collection = None, return_all = False):\n",
    "    temp = []\n",
    "    \n",
    "    if title_collection is None:\n",
    "            title_collection = collection_store[title]\n",
    "            \n",
    "    for i in range(len(movie_title)):\n",
    "        \n",
    "        if movie_title[i] == title:\n",
    "            temp.append((movie_title[i],1))\n",
    "            continue\n",
    "            \n",
    "        if collection_store[movie_title[i]] is not None:           \n",
    "            if collection_store[movie_title[i]] == title_collection:\n",
    "                temp.append((movie_title[i],0))\n",
    "                \n",
    "            else:\n",
    "                temp.append((movie_title[i],1))\n",
    "        else:\n",
    "            temp.append((movie_title[i],1))\n",
    "            \n",
    "#     temp.sort(key = lambda x:x[1])  \n",
    "    \n",
    "    if return_all:\n",
    "        return temp\n",
    "    else:\n",
    "        return temp[:10]\n",
    "        \n",
    "print(collection_similarity('Toy Story'))\n"
   ]
  },
  {
   "cell_type": "code",
   "execution_count": 8,
   "metadata": {},
   "outputs": [
    {
     "name": "stdout",
     "output_type": "stream",
     "text": [
      "[('Toy Story', 1), ('Jumanji', 0), ('Grumpier Old Men', 0), ('Waiting to Exhale', 0), ('Father of the Bride Part II', 0), ('Heat', 0), ('Sabrina', 0), ('Tom and Huck', 0), ('Sudden Death', 0), ('GoldenEye', 0)]\n"
     ]
    }
   ],
   "source": [
    "adult = movies_df['adult'].values.tolist()\n",
    "adult_store = {collection_titles[i] : c for i,c in enumerate(adult)}\n",
    "\n",
    "def adult_similarity(title, title_collection = None, return_all = False):\n",
    "    temp = []\n",
    "    \n",
    "    if title_collection is None:\n",
    "            title_collection = adult_store[title]\n",
    "            \n",
    "    for i in range(len(movie_title)):\n",
    "        \n",
    "        if movie_title[i] == title:\n",
    "            temp.append((movie_title[i],1))\n",
    "            continue\n",
    "            \n",
    "        if adult_store[movie_title[i]] is not None:           \n",
    "            if adult_store[movie_title[i]] == title_collection:\n",
    "                temp.append((movie_title[i],0))\n",
    "            else:\n",
    "                temp.append((movie_title[i],1))\n",
    "        else:\n",
    "            temp.append((movie_title[i],1))\n",
    "            \n",
    "#     temp.sort(key = lambda x:x[1])  \n",
    "    \n",
    "    if return_all:\n",
    "        return temp\n",
    "    else:\n",
    "        return temp[:10]\n",
    "        \n",
    "print(adult_similarity('Toy Story'))\n"
   ]
  },
  {
   "cell_type": "code",
   "execution_count": 9,
   "metadata": {},
   "outputs": [
    {
     "name": "stdout",
     "output_type": "stream",
     "text": [
      "[('Toy Story', 1), ('Jumanji', 1), ('Grumpier Old Men', 1), ('Waiting to Exhale', 1), ('Father of the Bride Part II', 1), ('Heat', 1), ('Sabrina', 1), ('Tom and Huck', 1), ('Sudden Death', 1), ('GoldenEye', 1)]\n"
     ]
    }
   ],
   "source": [
    "language = movies_df['original_language'].values.tolist()\n",
    "language_store = {collection_titles[i] : c for i,c in enumerate(language)}\n",
    "\n",
    "def language_similarity(title, title_collection = None, return_all = False):\n",
    "    temp = []\n",
    "    \n",
    "    if title_collection is None:\n",
    "            title_collection = adult_store[title]\n",
    "            \n",
    "    for i in range(len(movie_title)):\n",
    "        \n",
    "        if movie_title[i] == title:\n",
    "            temp.append((movie_title[i],1))\n",
    "            continue\n",
    "            \n",
    "        if language_store[movie_title[i]] is not None:           \n",
    "            if language_store[movie_title[i]] == title_collection:\n",
    "                temp.append((movie_title[i],0))\n",
    "                \n",
    "            else:\n",
    "                temp.append((movie_title[i],1))\n",
    "        else:\n",
    "            temp.append((movie_title[i],1))\n",
    "            \n",
    "#     temp.sort(key = lambda x:x[1])  \n",
    "    \n",
    "    if return_all:\n",
    "        return temp\n",
    "    else:\n",
    "        return temp[:10]\n",
    "        \n",
    "print(language_similarity('Toy Story'))\n"
   ]
  },
  {
   "cell_type": "code",
   "execution_count": 10,
   "metadata": {},
   "outputs": [
    {
     "name": "stdout",
     "output_type": "stream",
     "text": [
      "[('Highlander', 0.0), ('Hercules', 0.0), ('Conan the Barbarian', 0.0), ('Red Sonja', 0.0), ('The 13th Warrior', 0.0), ('The Mummy Returns', 0.0), ('Krull', 0.0), ('The Lord of the Rings: The Fellowship of the Ring', 0.0), ('Conan the Destroyer', 0.0), ('The Scorpion King', 0.0)]\n",
      "{'Fantasy', 'Action', 'Adventure'} {'Fantasy', 'Action', 'Adventure'}\n"
     ]
    }
   ],
   "source": [
    "genre = movies_df['genres'].values.tolist()\n",
    "genre_list = [ast.literal_eval(c) for i,c in enumerate(genre)]\n",
    "\n",
    "# print(genre_list)\n",
    "\n",
    "genre_store = {}\n",
    "\n",
    "for i,arr in enumerate(genre_list):\n",
    "    genre_store[movie_title[i]] = set()\n",
    "    for d in arr:\n",
    "        genre_store[movie_title[i]].add(d['name'])\n",
    "\n",
    "def genre_similarity(title, title_collection = None, return_all = False):\n",
    "    temp = []\n",
    "    \n",
    "    if title_collection is None:\n",
    "            title_collection = genre_store[title]\n",
    "            \n",
    "    for i in range(len(movie_title)):\n",
    "        \n",
    "        if movie_title[i] == title:\n",
    "            temp.append((movie_title[i],1))\n",
    "            continue\n",
    "            \n",
    "        if genre_store[movie_title[i]] is not None:           \n",
    "            temp.append((movie_title[i],2*(len(genre_store[movie_title[i]].union(genre_store[title]))/(len(genre_store[movie_title[i]])+len(genre_store[title]))-0.5)))\n",
    "                  \n",
    "        else:\n",
    "            temp.append((movie_title[i],1))\n",
    "    \n",
    "    if return_all:\n",
    "        return temp\n",
    "    else:\n",
    "        temp.sort(key = lambda x:x[1])\n",
    "        return temp[:10]\n",
    "        \n",
    "print(genre_similarity('Batman v Superman: Dawn of Justice'))\n",
    "\n",
    "print(genre_store['Batman v Superman: Dawn of Justice'], genre_store['The Scorpion King'])"
   ]
  },
  {
   "cell_type": "code",
   "execution_count": 14,
   "metadata": {},
   "outputs": [
    {
     "name": "stdout",
     "output_type": "stream",
     "text": [
      "45463 45462 45463 45463 45463\n",
      "[('Toy Story 3', 2.3636363636363638), ('Toy Story 2', 2.4761904761904763), ('Боцман и попугай', 7.0), ('The Great Piggy Bank Robbery', 7.0), ('Ali Baba Bunny', 7.0), ('Feed the Kitty', 7.0), ('Devil May Hare', 7.0), ('Banana', 7.0), ('The Emoji Movie', 7.0), ('Minions: Orientation Day', 7.0)]\n"
     ]
    }
   ],
   "source": [
    "def combine(title, scores = [5,2,5,5,2]):\n",
    "    collection = collection_similarity(title, return_all = True)\n",
    "    description = description_similarity(title, return_scores = True, return_all = True)\n",
    "    language = language_similarity(title, return_all = True)\n",
    "    adult = adult_similarity(title, return_all = True)\n",
    "    genre = genre_similarity(title, return_all = True)\n",
    "#     for i in range(1,len(description)):\n",
    "#         if description[i-1][0] == description[i][0]:\n",
    "#             description = description[:i-1] + description[i:]\n",
    "#             break\n",
    "    print(len(collection), len(description), len(language), len(adult), len(genre))\n",
    "    temp = []\n",
    "    \n",
    "    for i in range(len(movie_title)-2):\n",
    "        \n",
    "        if movie_title[i] == title or movie_title[i] not in adult_store:\n",
    "            continue\n",
    "#         print(scores[0]*adult[i][1])\n",
    "#         print(scores[0]*language[i][1])\n",
    "#         print(scores[0]*collection[i][1])\n",
    "#         print(adult[i][1], language[i][1], collection[i][1], description[i][1])\n",
    "#         print(adult[i][0],\"  \", language[i][0], \"  \",  collection[i][0], \"  \", description[i][0])\n",
    "#         print(movie_title[i], scores[0]*adult[i+1][1], scores[1]*language[i+1][1], scores[2]*collection[i+1][1], scores[3]*description[i+1][1], scores[0]*adult[i+1][1] + scores[1]*language[i+1][1] + scores[2]*collection[i+1][1] + scores[3]*description[i+1][1])\n",
    "        temp.append((movie_title[i],scores[0]*adult[i][1] + scores[1]*language[i][1] + scores[2]*collection[i][1] + scores[3]*description[i][1] + scores[4]*genre[i][1]))\n",
    "    temp.sort(key = lambda x:x[1])\n",
    "    return temp[:10]\n",
    "\n",
    "print(combine(\"Toy Story\"))"
   ]
  },
  {
   "cell_type": "code",
   "execution_count": null,
   "metadata": {},
   "outputs": [],
   "source": []
  },
  {
   "cell_type": "code",
   "execution_count": null,
   "metadata": {},
   "outputs": [],
   "source": []
  }
 ],
 "metadata": {
  "kernelspec": {
   "display_name": "Python 3",
   "language": "python",
   "name": "python3"
  },
  "language_info": {
   "codemirror_mode": {
    "name": "ipython",
    "version": 3
   },
   "file_extension": ".py",
   "mimetype": "text/x-python",
   "name": "python",
   "nbconvert_exporter": "python",
   "pygments_lexer": "ipython3",
   "version": "3.7.9"
  }
 },
 "nbformat": 4,
 "nbformat_minor": 4
}

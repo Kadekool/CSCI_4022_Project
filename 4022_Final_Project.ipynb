{
 "cells": [
  {
   "cell_type": "markdown",
   "metadata": {},
   "source": [
    "In this project we propose to create an item-item recommendation system that will assist users in selecting the next title to watch based on their input of a specific title. We will adopt this approach instead of building user profiles, so the imputed title will be used in lieu of a user profile, however user profile data is available that we may incorporate into our project later, time allowing.\n",
    "\n",
    "We have begun setting up our item-item system, but we have not progressed very far."
   ]
  },
  {
   "cell_type": "markdown",
   "metadata": {},
   "source": [
    "As you can see, we have calculated the most popular and high rated titles, as well as averages of the like. This is very important for recomendations! The better rated and ranked an item, the more likely it is to be recommended. It also is important to think about which items are popular in general and which items are specifically "
   ]
  },
  {
   "cell_type": "code",
   "execution_count": 1,
   "metadata": {},
   "outputs": [
    {
     "name": "stderr",
     "output_type": "stream",
     "text": [
      "C:\\Users\\Kathleen\\Anaconda3\\lib\\site-packages\\IPython\\core\\interactiveshell.py:3156: DtypeWarning: Columns (10) have mixed types.Specify dtype option on import or set low_memory=False.\n",
      "  interactivity=interactivity, compiler=compiler, result=result)\n"
     ]
    }
   ],
   "source": [
    "import numpy as np\n",
    "import pandas as pd\n",
    "\n",
    "ratings_df = pd.read_csv(\"./input/ratings_small.csv\", dtype = 'float')\n",
    "ratings_df.head()\n",
    "\n",
    "movies_df = pd.read_csv(\"./input/movies_metadata.csv\")\n",
    "movies_df.head()\n",
    "\n",
    "movies_df = movies_df[movies_df['id'].astype(str).str.isdigit()] # clean (Some movies have not integers as id)\n",
    "movies_df.id = movies_df.id.astype(np.int64)\n",
    "\n",
    "ratings_df = pd.merge(ratings_df,movies_df[['title','id']],left_on='movieId',right_on='id')\n",
    "ratings_df.head()\n",
    "\n",
    "ratings_df.drop(['timestamp','id'],axis=1,inplace=True)\n",
    "\n",
    "titles = ratings_df[\"title\"].unique()\n",
    "titlesRate = []\n",
    "titlesVote = []\n",
    "\n",
    "for t in range(len(titles)):\n",
    "    temp = ratings_df[(ratings_df[\"title\"] == titles[t])]\n",
    "    v = temp['rating'].mean()\n",
    "    titlesVote.append(temp['rating'].count())\n",
    "    titlesRate.append(v)\n",
    "\n",
    "data = {'Title':  titles,\n",
    "        'Rating': titlesRate,\n",
    "        'Votes': titlesVote\n",
    "       }\n",
    "Leaderboard = pd.DataFrame (data, columns = ['Title','Rating','Votes'])\n"
   ]
  },
  {
   "cell_type": "code",
   "execution_count": 2,
   "metadata": {},
   "outputs": [
    {
     "name": "stdout",
     "output_type": "stream",
     "text": [
      "Top rated movies\n",
      "                      Title  Rating  Votes\n",
      "0           The Celebration     5.0      3\n",
      "1   The Night of the Hunter     5.0      3\n",
      "2                 Ninotchka     5.0      2\n",
      "3                 Silentium     5.0      2\n",
      "4  Gentlemen Prefer Blondes     5.0      2\n",
      "5                 Long Pigs     5.0      2\n",
      "6              Nick of Time     5.0      1\n",
      "7        The Crazy Stranger     5.0      1\n",
      "8            The Inquisitor     5.0      1\n",
      "9      Murder in Three Acts     5.0      1\n",
      "Most viewed movies\n",
      "                                Title    Rating  Votes\n",
      "0  Terminator 3: Rise of the Machines  4.256173    324\n",
      "1            The Million Dollar Hotel  4.487138    311\n",
      "2                             Solaris  4.134426    305\n",
      "3                        The 39 Steps  4.221649    291\n",
      "4                     Monsoon Wedding  3.706204    274\n",
      "5                  Once Were Warriors  4.303279    244\n",
      "6                   Three Colors: Red  3.945175    228\n",
      "7                     Men in Black II  4.256696    224\n",
      "8          The Passion of Joan of Arc  3.483945    218\n",
      "9                         Silent Hill  3.674419    215\n"
     ]
    }
   ],
   "source": [
    "# Highly rated movies\n",
    "print(\"Top rated movies\")\n",
    "Leaderboard = Leaderboard.sort_values(by=['Rating','Votes'], ascending = False).reset_index(drop = True)\n",
    "print(Leaderboard.head(10))\n",
    "\n",
    "print(\"Most viewed movies\")\n",
    "# Popular\n",
    "Leaderboard = Leaderboard.sort_values(by=['Votes','Rating'], ascending = False).reset_index(drop = True)\n",
    "print(Leaderboard.head(10))"
   ]
  },
  {
   "cell_type": "code",
   "execution_count": null,
   "metadata": {},
   "outputs": [],
   "source": []
  }
 ],
 "metadata": {
  "kernelspec": {
   "display_name": "Python 3",
   "language": "python",
   "name": "python3"
  },
  "language_info": {
   "codemirror_mode": {
    "name": "ipython",
    "version": 3
   },
   "file_extension": ".py",
   "mimetype": "text/x-python",
   "name": "python",
   "nbconvert_exporter": "python",
   "pygments_lexer": "ipython3",
   "version": "3.7.9"
  }
 },
 "nbformat": 4,
 "nbformat_minor": 4
}

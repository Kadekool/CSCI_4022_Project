{
 "cells": [
  {
   "cell_type": "markdown",
   "metadata": {},
   "source": [
    "In this project we propose to create an item-item recommendation system that will assist users in selecting the next title to watch based on their input of a specific title. We will adopt this approach instead of building user profiles, so the imputed title will be used in lieu of a user profile, however user profile data is available that we may incorporate into our project later, time allowing.\n",
    "\n",
    "We have begun setting up our item-item system, but we have not progressed very far. We are currently using a truncated version of our ratings file."
   ]
  },
  {
   "cell_type": "code",
   "execution_count": 1,
   "metadata": {},
   "outputs": [
    {
     "name": "stderr",
     "output_type": "stream",
     "text": [
      "/home/kadekool/class/4022/env/lib/python3.8/site-packages/IPython/core/interactiveshell.py:3146: DtypeWarning: Columns (10) have mixed types.Specify dtype option on import or set low_memory=False.\n",
      "  has_raised = await self.run_ast_nodes(code_ast.body, cell_name,\n"
     ]
    }
   ],
   "source": [
    "import numpy as np\n",
    "import pandas as pd\n",
    "import matplotlib.pyplot as plt\n",
    "import ast\n",
    "\n",
    "ratings_df = pd.read_csv(\"./input/ratings_small.csv\", dtype = 'float')\n",
    "ratings_df.head()\n",
    "\n",
    "movies_df = pd.read_csv(\"./input/movies_metadata.csv\")\n",
    "movies_df.head()\n",
    "\n",
    "movies_df = movies_df[movies_df['id'].astype(str).str.isdigit()] # clean (Some movies have not integers as id)\n",
    "movies_df.id = movies_df.id.astype(np.int64)\n",
    "\n",
    "ratings_df = pd.merge(ratings_df,movies_df[['title','id']],left_on='movieId',right_on='id')\n",
    "ratings_df.head()\n",
    "\n",
    "ratings_df.drop(['timestamp','id'],axis=1,inplace=True)\n",
    "\n",
    "titles = ratings_df[\"title\"].unique()\n",
    "titlesRate = []\n",
    "titlesVote = []\n",
    "\n",
    "for t in range(len(titles)):\n",
    "    temp = ratings_df[(ratings_df[\"title\"] == titles[t])]\n",
    "    v = temp['rating'].mean()\n",
    "    titlesVote.append(temp['rating'].count())\n",
    "    titlesRate.append(v)\n",
    "\n",
    "data = {'Title':  titles,\n",
    "        'Rating': titlesRate,\n",
    "        'Votes': titlesVote\n",
    "       }\n",
    "Leaderboard = pd.DataFrame (data, columns = ['Title','Rating','Votes'])\n"
   ]
  },
  {
   "cell_type": "code",
   "execution_count": 2,
   "metadata": {},
   "outputs": [
    {
     "name": "stdout",
     "output_type": "stream",
     "text": [
      "Top rated movies\n",
      "                      Title  Rating  Votes\n",
      "0           The Celebration     5.0      3\n",
      "1   The Night of the Hunter     5.0      3\n",
      "2                 Ninotchka     5.0      2\n",
      "3                 Silentium     5.0      2\n",
      "4  Gentlemen Prefer Blondes     5.0      2\n",
      "5                 Long Pigs     5.0      2\n",
      "6              Nick of Time     5.0      1\n",
      "7        The Crazy Stranger     5.0      1\n",
      "8            The Inquisitor     5.0      1\n",
      "9      Murder in Three Acts     5.0      1\n",
      "Most viewed movies\n",
      "                                Title    Rating  Votes\n",
      "0  Terminator 3: Rise of the Machines  4.256173    324\n",
      "1            The Million Dollar Hotel  4.487138    311\n",
      "2                             Solaris  4.134426    305\n",
      "3                        The 39 Steps  4.221649    291\n",
      "4                     Monsoon Wedding  3.706204    274\n",
      "5                  Once Were Warriors  4.303279    244\n",
      "6                   Three Colors: Red  3.945175    228\n",
      "7                     Men in Black II  4.256696    224\n",
      "8          The Passion of Joan of Arc  3.483945    218\n",
      "9                         Silent Hill  3.674419    215\n"
     ]
    }
   ],
   "source": [
    "# Highly rated movies\n",
    "print(\"Top rated movies\")\n",
    "Leaderboard = Leaderboard.sort_values(by=['Rating','Votes'], ascending = False).reset_index(drop = True)\n",
    "print(Leaderboard.head(10))\n",
    "\n",
    "print(\"Most viewed movies\")\n",
    "# Popular\n",
    "Leaderboard = Leaderboard.sort_values(by=['Votes','Rating'], ascending = False).reset_index(drop = True)\n",
    "print(Leaderboard.head(10))"
   ]
  },
  {
   "cell_type": "code",
   "execution_count": 3,
   "metadata": {},
   "outputs": [
    {
     "data": {
      "image/png": "[encoded data removed]",
      "text/plain": [
       "<Figure size 432x288 with 1 Axes>"
      ]
     },
     "metadata": {
      "needs_background": "light"
     },
     "output_type": "display_data"
    },
    {
     "data": {
      "image/png": "[encoded data removed]",
      "text/plain": [
       "<Figure size 432x288 with 1 Axes>"
      ]
     },
     "metadata": {
      "needs_background": "light"
     },
     "output_type": "display_data"
    }
   ],
   "source": [
    "top_rated_movies = Leaderboard.sort_values(by=['Rating','Votes'], ascending = False).reset_index(drop = True)\n",
    "top_rated_movies_y = sorted(top_rated_movies['Rating'].values.tolist())\n",
    "top_rated_movies_x = [i for i in range(len(top_rated_movies_y))]\n",
    "\n",
    "plt.bar(top_rated_movies_x, top_rated_movies_y)\n",
    "\n",
    "plt.title('Rankings of movies')\n",
    "plt.xlabel(\"Movie Number\")\n",
    "plt.ylabel(\"Movie Rating\")\n",
    "plt.show()\n",
    "\n",
    "top_voted_movies_y = sorted(top_rated_movies['Votes'].values.tolist())\n",
    "top_voted_movies_x = [i for i in range(len(top_rated_movies_y))]\n",
    "plt.bar(top_voted_movies_x, top_voted_movies_y, color = 'red')\n",
    "\n",
    "plt.title('Votes of movies')\n",
    "plt.xlabel(\"Movie Number\")\n",
    "plt.ylabel(\"Number of Votes\")\n",
    "plt.show()\n"
   ]
  },
  {
   "cell_type": "markdown",
   "metadata": {},
   "source": [
    "As you can see, we have cleaned and merged some data from our csv files. From these we calculated the most popular and high rated titles, as well as averages of the like. This is very important for recomendations! The better rated and ranked an item, the more likely it is to be recommended. It also is important to think about which items are popular in general and which items are specifically. Moving foward we will have to  run knn on the movies. Where the closest k movies will be suggested. Perhaps we can incorporate the rating of the movie in the way we list the movie recommendations to the user. "
   ]
  },
  {
   "cell_type": "code",
   "execution_count": 4,
   "metadata": {},
   "outputs": [],
   "source": [
    "movie_text = movies_df['overview'].values.tolist()\n",
    "movie_text_check = movie_text.copy()\n",
    "movie_text = [set(str(movie_text[i]).split()) for i in range(len(movie_text))]\n",
    "\n",
    "movie_title = movies_df['original_title'].values.tolist()\n",
    "movie_title = [movie_title[i] for i in range(len(movie_title))]\n",
    "movie_title_set = set(movie_title)\n",
    "\n",
    "movie_word_set = {movie_title[i]: movie_text[i] for i in range(len(movie_title))}\n",
    "check_words = {movie_title[i]: movie_text_check[i] for i in range(len(movie_title))}"
   ]
  },
  {
   "cell_type": "code",
   "execution_count": 143,
   "metadata": {},
   "outputs": [],
   "source": [
    "adult_store = {collection_titles[i] : c for i,c in enumerate(adult)}\n",
    "\n",
    "def description_similarity(title, title_set = None, return_scores = False, return_text = False, return_all = False):\n",
    "    if title not in movie_title_set:\n",
    "        print(\"Title not found!\")\n",
    "        return []\n",
    "    \n",
    "    else:\n",
    "        if title_set is None:\n",
    "            ii = movie_title.index(title)\n",
    "            title_set = movie_text[ii]\n",
    "        \n",
    "        i = 0\n",
    "        j = -1\n",
    "        current_leader = []\n",
    "        while i < 10:\n",
    "            j += 1\n",
    "            if movie_title[j] == title or len(movie_text[j]) == 0:\n",
    "                if return_text:\n",
    "                    current_leader.append((movie_title[j], 1, movie_text[j]))\n",
    "                else:\n",
    "                    current_leader.append((movie_title[j], 1))\n",
    "            else:\n",
    "                if return_text:\n",
    "                    current_leader.append((movie_title[j], len(movie_text[j].union(title_set))/(len(movie_text[j])+len(title_set)), movie_text[j]))\n",
    "                else:\n",
    "                    current_leader.append((movie_title[j], len(movie_text[j].union(title_set))/(len(movie_text[j])+len(title_set))))\n",
    "            i += 1\n",
    "        \n",
    "        title_set = movie_word_set[title]\n",
    "\n",
    "        for i, m_title in enumerate(movie_title[10:]):\n",
    "            j = i + 10\n",
    "            \n",
    "            if m_title == title or len(movie_text[j]) == 0:\n",
    "                current_leader.append((movie_title[j], 1))\n",
    "                continue\n",
    "                \n",
    "            if return_text:\n",
    "                current_leader.append((movie_title[j], len(movie_text[j].union(title_set))/(len(movie_text[j])+len(title_set)), movie_text[j]))\n",
    "            else:\n",
    "                current_leader.append((movie_title[j], len(movie_text[j].union(title_set))/(len(movie_text[j])+len(title_set))))\n",
    "            \n",
    "            if not return_all:\n",
    "                current_leader.sort(key = lambda x:x[1])\n",
    "                current_leader = current_leader[:-1]\n",
    "            \n",
    "        if return_scores or return_text:\n",
    "            return current_leader\n",
    "        else:\n",
    "            return [x[0] for x in current_leader]\n",
    "        \n",
    "title = \"Toy Story\"\n",
    "temp = description_similarity(title, return_scores = True)\n",
    "# print([(x[0], x[1]) for x in temp])\n",
    "# print()\n",
    "\n"
   ]
  },
  {
   "cell_type": "code",
   "execution_count": 115,
   "metadata": {},
   "outputs": [
    {
     "name": "stdout",
     "output_type": "stream",
     "text": [
      "Led by Woody, Andy's toys live happily in his room until Andy's birthday brings Buzz Lightyear onto the scene. Afraid of losing his place in Andy's heart, Woody plots against Buzz. But when circumstances separate Buzz and Woody from their owner, the duo eventually learns to put aside their differences.\n",
      "\n",
      "Coming out from jail, Lucas has decided to change his life and behave like a good citizen. But when he is taken hostage in a bank by a hare-brained robber, no cops can believe he is not part of the action.\n",
      "{'to', 'of', 'the', 'But', 'his', 'by', 'and', 'when', 'from', 'in'}\n",
      "\n",
      "69 79\n"
     ]
    }
   ],
   "source": [
    "if 'Toy Story' in check_words:\n",
    "    print(check_words['Toy Story'])\n",
    "    print()\n",
    "\n",
    "if 'Les Fugitifs' in check_words:\n",
    "    print(check_words['Les Fugitifs'])\n",
    "    \n",
    "ii = movie_title.index('Toy Story')\n",
    "title_set = movie_text[ii]\n",
    "\n",
    "iii = movie_title.index('Les Fugitifs')\n",
    "title_set_two = movie_text[iii]\n",
    "\n",
    "print(title_set.intersection(title_set_two))\n",
    "print()\n",
    "print(len(title_set.union(title_set_two)),len(title_set) + len(title_set_two))"
   ]
  },
  {
   "cell_type": "code",
   "execution_count": 144,
   "metadata": {},
   "outputs": [
    {
     "name": "stdout",
     "output_type": "stream",
     "text": [
      "[('Toy Story', 1), ('Jumanji', 1), ('Grumpier Old Men', 1), ('Waiting to Exhale', 1), ('Father of the Bride Part II', 1), ('Heat', 1), ('Sabrina', 1), ('Tom and Huck', 1), ('Sudden Death', 1), ('GoldenEye', 1)]\n"
     ]
    }
   ],
   "source": [
    "collection = movies_df['belongs_to_collection']\n",
    "collection_titles = movies_df['original_title'].values.tolist()\n",
    "collection_store = {collection_titles[i] : ast.literal_eval(c)['name'] if isinstance(c, str) else None for i,c in enumerate(collection.values.tolist())}\n",
    "\n",
    "def collection_similarity(title, title_collection = None, return_all = False):\n",
    "    temp = []\n",
    "    \n",
    "    if title_collection is None:\n",
    "            title_collection = collection_store[title]\n",
    "            \n",
    "    for i in range(len(movie_title)):\n",
    "        \n",
    "        if movie_title[i] == title:\n",
    "            temp.append((movie_title[i],1))\n",
    "            continue\n",
    "            \n",
    "        if collection_store[movie_title[i]] is not None:           \n",
    "            if collection_store[movie_title[i]] == title_collection:\n",
    "                temp.append((movie_title[i],0))\n",
    "                \n",
    "            else:\n",
    "                temp.append((movie_title[i],1))\n",
    "        else:\n",
    "            temp.append((movie_title[i],1))\n",
    "            \n",
    "#     temp.sort(key = lambda x:x[1])  \n",
    "    \n",
    "    if return_all:\n",
    "        return temp\n",
    "    else:\n",
    "        return temp[:10]\n",
    "        \n",
    "print(collection_similarity('Toy Story'))\n"
   ]
  },
  {
   "cell_type": "code",
   "execution_count": 145,
   "metadata": {},
   "outputs": [
    {
     "name": "stdout",
     "output_type": "stream",
     "text": [
      "[('Toy Story', 1), ('Jumanji', 0), ('Grumpier Old Men', 0), ('Waiting to Exhale', 0), ('Father of the Bride Part II', 0), ('Heat', 0), ('Sabrina', 0), ('Tom and Huck', 0), ('Sudden Death', 0), ('GoldenEye', 0)]\n"
     ]
    }
   ],
   "source": [
    "adult = movies_df['adult'].values.tolist()\n",
    "adult_store = {collection_titles[i] : c for i,c in enumerate(adult)}\n",
    "\n",
    "def adult_similarity(title, title_collection = None, return_all = False):\n",
    "    temp = []\n",
    "    \n",
    "    if title_collection is None:\n",
    "            title_collection = adult_store[title]\n",
    "            \n",
    "    for i in range(len(movie_title)):\n",
    "        \n",
    "        if movie_title[i] == title:\n",
    "            temp.append((movie_title[i],1))\n",
    "            continue\n",
    "            \n",
    "        if adult_store[movie_title[i]] is not None:           \n",
    "            if adult_store[movie_title[i]] == title_collection:\n",
    "                temp.append((movie_title[i],0))\n",
    "            else:\n",
    "                temp.append((movie_title[i],1))\n",
    "        else:\n",
    "            temp.append((movie_title[i],1))\n",
    "            \n",
    "#     temp.sort(key = lambda x:x[1])  \n",
    "    \n",
    "    if return_all:\n",
    "        return temp\n",
    "    else:\n",
    "        return temp[:10]\n",
    "        \n",
    "print(adult_similarity('Toy Story'))\n"
   ]
  },
  {
   "cell_type": "code",
   "execution_count": 146,
   "metadata": {},
   "outputs": [
    {
     "name": "stdout",
     "output_type": "stream",
     "text": [
      "[('Toy Story', 1), ('Jumanji', 1), ('Grumpier Old Men', 1), ('Waiting to Exhale', 1), ('Father of the Bride Part II', 1), ('Heat', 1), ('Sabrina', 1), ('Tom and Huck', 1), ('Sudden Death', 1), ('GoldenEye', 1)]\n"
     ]
    }
   ],
   "source": [
    "language = movies_df['original_language'].values.tolist()\n",
    "language_store = {collection_titles[i] : c for i,c in enumerate(language)}\n",
    "\n",
    "def language_similarity(title, title_collection = None, return_all = False):\n",
    "    temp = []\n",
    "    \n",
    "    if title_collection is None:\n",
    "            title_collection = adult_store[title]\n",
    "            \n",
    "    for i in range(len(movie_title)):\n",
    "        \n",
    "        if movie_title[i] == title:\n",
    "            temp.append((movie_title[i],1))\n",
    "            continue\n",
    "            \n",
    "        if language_store[movie_title[i]] is not None:           \n",
    "            if language_store[movie_title[i]] == title_collection:\n",
    "                temp.append((movie_title[i],0))\n",
    "                \n",
    "            else:\n",
    "                temp.append((movie_title[i],1))\n",
    "        else:\n",
    "            temp.append((movie_title[i],1))\n",
    "            \n",
    "#     temp.sort(key = lambda x:x[1])  \n",
    "    \n",
    "    if return_all:\n",
    "        return temp\n",
    "    else:\n",
    "        return temp[:10]\n",
    "        \n",
    "print(language_similarity('Toy Story'))\n"
   ]
  },
  {
   "cell_type": "code",
   "execution_count": null,
   "metadata": {},
   "outputs": [],
   "source": [
    "# genre = movies_df['genres'].values.tolist()\n",
    "# genre_store = {collection_titles[i] : c for i,c in enumerate(genre)}\n",
    "\n",
    "# def genre_similarity(title, title_collection = None, return_all = False):\n",
    "#     temp = []\n",
    "    \n",
    "#     if title_collection is None:\n",
    "#             title_collection = genre_store[title]\n",
    "            \n",
    "#     for i in range(len(movie_title)):\n",
    "        \n",
    "#         if movie_title[i] == title:\n",
    "#             continue\n",
    "            \n",
    "#         if genre_store[movie_title[i]] is not None:           \n",
    "#             if genre_store[movie_title[i]] == title_collection:\n",
    "#                 temp.append((movie_title[i],0))\n",
    "                \n",
    "#             else:\n",
    "#                 temp.append((movie_title[i],1))\n",
    "#         else:\n",
    "#             temp.append((movie_title[i],1))\n",
    "            \n",
    "#     temp.sort(key = lambda x:x[1])  \n",
    "    \n",
    "#     if return_all:\n",
    "#         return temp\n",
    "#     else:\n",
    "#         return temp[:10]\n",
    "        \n",
    "# print(language_similarity('Toy Story'))"
   ]
  },
  {
   "cell_type": "code",
   "execution_count": 160,
   "metadata": {},
   "outputs": [
    {
     "name": "stdout",
     "output_type": "stream",
     "text": [
      "45463 45463 45463 45463\n",
      "[('Man of Steel', 2.9207920792079207), ('Backstage', 7.8807339449541285), ('Batman & Robin', 7.882978723404255), ('Sevmek Zamanı', 7.883116883116883), ('Thirteen', 7.883495145631068), ('Batman: The Dark Knight Returns, Part 1', 7.88421052631579), ('Kill Kane', 7.88421052631579), ('Rasputin', 7.885057471264368), ('Trancers 6: Life After Deth', 7.885964912280702), ('Lego Batman: The Movie - DC Super Heroes Unite', 7.8875)]\n"
     ]
    }
   ],
   "source": [
    "def combine(title, scores = [5,2,5,1,3]):\n",
    "    collection = collection_similarity(title, return_all = True)\n",
    "    description = description_similarity(title, return_scores = True, return_all = True)\n",
    "    language = language_similarity(title, return_all = True)\n",
    "    adult = adult_similarity(title, return_all = True)\n",
    "#     for i in range(1,len(description)):\n",
    "#         if description[i-1][0] == description[i][0]:\n",
    "#             description = description[:i-1] + description[i:]\n",
    "#             break\n",
    "    print(len(collection), len(description), len(language), len(adult))\n",
    "    temp = []\n",
    "    \n",
    "    for i in range(len(movie_title)-2):\n",
    "        \n",
    "        if movie_title[i] == title or movie_title[i] not in adult_store:\n",
    "            continue\n",
    "#         print(scores[0]*adult[i][1])\n",
    "#         print(scores[0]*language[i][1])\n",
    "#         print(scores[0]*collection[i][1])\n",
    "#         print(adult[i][1], language[i][1], collection[i][1], description[i][1])\n",
    "#         print(adult[i][0],\"  \", language[i][0], \"  \",  collection[i][0], \"  \", description[i][0])\n",
    "#         print(movie_title[i], scores[0]*adult[i+1][1], scores[1]*language[i+1][1], scores[2]*collection[i+1][1], scores[3]*description[i+1][1], scores[0]*adult[i+1][1] + scores[1]*language[i+1][1] + scores[2]*collection[i+1][1] + scores[3]*description[i+1][1])\n",
    "        temp.append((movie_title[i],scores[0]*adult[i][1] + scores[1]*language[i][1] + scores[2]*collection[i][1] + scores[3]*description[i][1]))\n",
    "    temp.sort(key = lambda x:x[1])\n",
    "    return temp[:10]\n",
    "\n",
    "print(combine(\"Batman v Superman: Dawn of Justice\"))"
   ]
  },
  {
   "cell_type": "code",
   "execution_count": null,
   "metadata": {},
   "outputs": [],
   "source": []
  },
  {
   "cell_type": "code",
   "execution_count": null,
   "metadata": {},
   "outputs": [],
   "source": []
  }
 ],
 "metadata": {
  "kernelspec": {
   "display_name": "Python 3",
   "language": "python",
   "name": "python3"
  },
  "language_info": {
   "codemirror_mode": {
    "name": "ipython",
    "version": 3
   },
   "file_extension": ".py",
   "mimetype": "text/x-python",
   "name": "python",
   "nbconvert_exporter": "python",
   "pygments_lexer": "ipython3",
   "version": "3.8.5"
  }
 },
 "nbformat": 4,
 "nbformat_minor": 4
}
